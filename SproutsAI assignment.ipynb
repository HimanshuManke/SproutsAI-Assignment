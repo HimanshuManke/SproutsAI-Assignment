{
 "cells": [
  {
   "cell_type": "code",
   "execution_count": 1,
   "id": "229f6527",
   "metadata": {},
   "outputs": [],
   "source": [
    "import spacy\n",
    "from sklearn.feature_extraction.text import TfidfVectorizer\n",
    "from sklearn.metrics.pairwise import cosine_similarity\n",
    "import numpy as np\n",
    "import fitz \n",
    "# Load spaCy model\n",
    "nlp = spacy.load(\"en_core_web_sm\")\n",
    "\n",
    "\n",
    "def parse_pdf(pdf_path):\n",
    "    # Extract text from PDF using PyMuPDF\n",
    "    with fitz.open(pdf_path) as pdf_document:\n",
    "        text = \"\"\n",
    "        for page_num in range(pdf_document.page_count):\n",
    "            page = pdf_document[page_num]\n",
    "            text += page.get_text(\"text\")\n",
    "    return text\n",
    "\n",
    "\n",
    "\n",
    "def parse_text(text):\n",
    "    \n",
    "    # Tokenize and process the text using spaCy\n",
    "    doc = nlp(text)\n",
    "    \n",
    "    # Extract named entities\n",
    "    named_entities = [ent.text for ent in doc.ents]\n",
    "    \n",
    "    # Extract other relevant information based on patterns or rules\n",
    "    # For example, extracting technical skills by identifying nouns and adjectives\n",
    "    tech_skills = [token.text for token in doc if token.pos_ in ['NOUN', 'ADJ'] and 'tech' in token.text.lower()]\n",
    "    \n",
    "    degrees = [token.text for token in doc if token.pos_ == 'NOUN' and 'degree' in token.text.lower()]\n",
    "    domains = [token.text for token in doc if token.pos_ == 'NOUN' and 'domain' in token.text.lower()]\n",
    "\n",
    "    # Extract location information\n",
    "    locations = [ent.text for ent in doc.ents if ent.label_ == 'GPE']\n",
    "\n",
    "    # Create a dictionary or data structure to store the extracted information\n",
    "    parsed_info = {\n",
    "        'named_entities': named_entities,\n",
    "        'tech_skills': tech_skills,\n",
    "        'degrees': degrees,\n",
    "        'domains': domains,\n",
    "        'locations': locations\n",
    "        # Add more fields as needed based on your requirements\n",
    "    }\n",
    "\n",
    "    return parsed_info\n",
    "\n",
    "def calculate_similarity(job_description, resume):\n",
    "    # Use TF-IDF for text vectorization\n",
    "    vectorizer = TfidfVectorizer()\n",
    "    job_vector = vectorizer.fit_transform([job_description])\n",
    "    resume_vector = vectorizer.transform([resume])\n",
    "    \n",
    "     # Calculate cosine similarity\n",
    "    similarity_score = cosine_similarity(job_vector, resume_vector)[0, 0]\n",
    "    return similarity_score * 100  # Scale to a 0-100 range"
   ]
  },
  {
   "cell_type": "code",
   "execution_count": 2,
   "id": "6509c763",
   "metadata": {},
   "outputs": [],
   "source": [
    "def match_score(job_description,resume):\n",
    "    # Parse job description and resume\n",
    "    job_desc_info = parse_text(job_description)\n",
    "    resume_info = parse_text(resume)\n",
    "\n",
    "    # Create models for job description and resume\n",
    "    job_desc_model = create_model(job_description)\n",
    "    resume_model = create_model(resume)\n",
    "\n",
    "    # Calculate similarity scores for different attributes\n",
    "    title_similarity = calculate_similarity(job_desc_model, resume_model)\n",
    "    location_similarity = calculate_similarity(job_desc_model, resume_model)\n",
    "    industry_similarity = calculate_similarity(job_desc_model, resume_model)\n",
    "    education_similarity = calculate_similarity(job_desc_model, resume_model)\n",
    "    tech_skills_similarity = calculate_similarity(job_desc_model, resume_model)\n",
    "\n",
    "    # Define weights for different attributes\n",
    "    title_weight = 0.2\n",
    "    location_weight = 0.1\n",
    "    industry_weight = 0.15\n",
    "    education_weight = 0.1\n",
    "    tech_skills_weight = 0.45\n",
    "\n",
    "    # Calculate overall match score\n",
    "    match_score = (\n",
    "        title_similarity * title_weight +\n",
    "        location_similarity * location_weight +\n",
    "        industry_similarity * industry_weight +\n",
    "        education_similarity * education_weight +\n",
    "        tech_skills_similarity * tech_skills_weight\n",
    "    ) * 100\n",
    "\n",
    "    return match_score"
   ]
  },
  {
   "cell_type": "code",
   "execution_count": 3,
   "id": "64135f64",
   "metadata": {},
   "outputs": [
    {
     "name": "stdout",
     "output_type": "stream",
     "text": [
      "Match Score: 66.24%\n"
     ]
    }
   ],
   "source": [
    "job_description_path = \"sample-job-description.pdf\"\n",
    "resume_path = \"Himanshu Manke cv F.pdf\"\n",
    "\n",
    "# Parse text from PDFs\n",
    "job_description_text = parse_pdf(job_description_path)\n",
    "resume_text = parse_pdf(resume_path)\n",
    "\n",
    "# Calculate match score\n",
    "score = calculate_similarity(job_description_text, resume_text)\n",
    "\n",
    "# Print the match score\n",
    "print(f\"Match Score: {score:.2f}%\")"
   ]
  },
  {
   "cell_type": "code",
   "execution_count": null,
   "id": "e7d27473",
   "metadata": {},
   "outputs": [],
   "source": []
  },
  {
   "cell_type": "code",
   "execution_count": null,
   "id": "eefef1c9",
   "metadata": {},
   "outputs": [],
   "source": []
  },
  {
   "cell_type": "code",
   "execution_count": null,
   "id": "f6d4c83d",
   "metadata": {},
   "outputs": [],
   "source": []
  },
  {
   "cell_type": "code",
   "execution_count": null,
   "id": "ade8d832",
   "metadata": {},
   "outputs": [],
   "source": []
  },
  {
   "cell_type": "code",
   "execution_count": null,
   "id": "8b1efbf8",
   "metadata": {},
   "outputs": [],
   "source": []
  }
 ],
 "metadata": {
  "kernelspec": {
   "display_name": "Python 3 (ipykernel)",
   "language": "python",
   "name": "python3"
  },
  "language_info": {
   "codemirror_mode": {
    "name": "ipython",
    "version": 3
   },
   "file_extension": ".py",
   "mimetype": "text/x-python",
   "name": "python",
   "nbconvert_exporter": "python",
   "pygments_lexer": "ipython3",
   "version": "3.11.5"
  }
 },
 "nbformat": 4,
 "nbformat_minor": 5
}
